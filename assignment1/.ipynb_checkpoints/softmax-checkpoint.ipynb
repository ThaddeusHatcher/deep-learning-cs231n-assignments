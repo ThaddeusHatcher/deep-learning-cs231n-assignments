{
 "cells": [
  {
   "cell_type": "markdown",
   "metadata": {},
   "source": [
    "# Softmax exercise\n",
    "\n",
    "*Complete and hand in this completed worksheet (including its outputs and any supporting code outside of the worksheet) with your assignment submission. For more details see the [assignments page](http://vision.stanford.edu/teaching/cs231n/assignments.html) on the course website.*\n",
    "\n",
    "This exercise is analogous to the SVM exercise. You will:\n",
    "\n",
    "- implement a fully-vectorized **loss function** for the Softmax classifier\n",
    "- implement the fully-vectorized expression for its **analytic gradient**\n",
    "- **check your implementation** with numerical gradient\n",
    "- use a validation set to **tune the learning rate and regularization** strength\n",
    "- **optimize** the loss function with **SGD**\n",
    "- **visualize** the final learned weights\n"
   ]
  },
  {
   "cell_type": "code",
   "execution_count": 14,
   "metadata": {},
   "outputs": [
    {
     "name": "stdout",
     "output_type": "stream",
     "text": [
      "The autoreload extension is already loaded. To reload it, use:\n",
      "  %reload_ext autoreload\n"
     ]
    }
   ],
   "source": [
    "import random\n",
    "import numpy as np\n",
    "from cs231n.data_utils import load_CIFAR10\n",
    "import matplotlib.pyplot as plt\n",
    "\n",
    "#from __future__ import print_function\n",
    "\n",
    "%matplotlib inline\n",
    "plt.rcParams['figure.figsize'] = (10.0, 8.0) # set default size of plots\n",
    "plt.rcParams['image.interpolation'] = 'nearest'\n",
    "plt.rcParams['image.cmap'] = 'gray'\n",
    "\n",
    "# for auto-reloading extenrnal modules\n",
    "# see http://stackoverflow.com/questions/1907993/autoreload-of-modules-in-ipython\n",
    "%load_ext autoreload\n",
    "%autoreload 2"
   ]
  },
  {
   "cell_type": "code",
   "execution_count": 15,
   "metadata": {},
   "outputs": [
    {
     "name": "stdout",
     "output_type": "stream",
     "text": [
      "Clear previously loaded data.\n",
      "Train data shape:  (49000, 3073)\n",
      "Train labels shape:  (49000,)\n",
      "Validation data shape:  (1000, 3073)\n",
      "Validation labels shape:  (1000,)\n",
      "Test data shape:  (1000, 3073)\n",
      "Test labels shape:  (1000,)\n",
      "dev data shape:  (500, 3073)\n",
      "dev labels shape:  (500,)\n"
     ]
    }
   ],
   "source": [
    "def get_CIFAR10_data(num_training=49000, num_validation=1000, num_test=1000, num_dev=500):\n",
    "    \"\"\"\n",
    "    Load the CIFAR-10 dataset from disk and perform preprocessing to prepare\n",
    "    it for the linear classifier. These are the same steps as we used for the\n",
    "    SVM, but condensed to a single function.  \n",
    "    \"\"\"\n",
    "    # Load the raw CIFAR-10 data\n",
    "    cifar10_dir = 'cs231n/datasets/cifar-10-batches-py'\n",
    "    \n",
    "    X_train, y_train, X_test, y_test = load_CIFAR10(cifar10_dir)\n",
    "    \n",
    "    # subsample the data\n",
    "    mask = list(range(num_training, num_training + num_validation))\n",
    "    X_val = X_train[mask]\n",
    "    y_val = y_train[mask]\n",
    "    mask = list(range(num_training))\n",
    "    X_train = X_train[mask]\n",
    "    y_train = y_train[mask]\n",
    "    mask = list(range(num_test))\n",
    "    X_test = X_test[mask]\n",
    "    y_test = y_test[mask]\n",
    "    mask = np.random.choice(num_training, num_dev, replace=False)\n",
    "    X_dev = X_train[mask]\n",
    "    y_dev = y_train[mask]\n",
    "    \n",
    "    # Preprocessing: reshape the image data into rows\n",
    "    X_train = np.reshape(X_train, (X_train.shape[0], -1))\n",
    "    X_val = np.reshape(X_val, (X_val.shape[0], -1))\n",
    "    X_test = np.reshape(X_test, (X_test.shape[0], -1))\n",
    "    X_dev = np.reshape(X_dev, (X_dev.shape[0], -1))\n",
    "    \n",
    "    # Normalize the data: subtract the mean image\n",
    "    mean_image = np.mean(X_train, axis = 0)\n",
    "    X_train -= mean_image\n",
    "    X_val -= mean_image\n",
    "    X_test -= mean_image\n",
    "    X_dev -= mean_image\n",
    "    \n",
    "    # add bias dimension and transform into columns\n",
    "    X_train = np.hstack([X_train, np.ones((X_train.shape[0], 1))])\n",
    "    X_val = np.hstack([X_val, np.ones((X_val.shape[0], 1))])\n",
    "    X_test = np.hstack([X_test, np.ones((X_test.shape[0], 1))])\n",
    "    X_dev = np.hstack([X_dev, np.ones((X_dev.shape[0], 1))])\n",
    "    \n",
    "    return X_train, y_train, X_val, y_val, X_test, y_test, X_dev, y_dev\n",
    "\n",
    "\n",
    "# Cleaning up variables to prevent loading data multiple times (which may cause memory issue)\n",
    "try:\n",
    "   del X_train, y_train\n",
    "   del X_test, y_test\n",
    "   print('Clear previously loaded data.')\n",
    "except:\n",
    "   pass\n",
    "\n",
    "# Invoke the above function to get our data.\n",
    "X_train, y_train, X_val, y_val, X_test, y_test, X_dev, y_dev = get_CIFAR10_data()\n",
    "print('Train data shape: ', X_train.shape)\n",
    "print('Train labels shape: ', y_train.shape)\n",
    "print('Validation data shape: ', X_val.shape)\n",
    "print('Validation labels shape: ', y_val.shape)\n",
    "print('Test data shape: ', X_test.shape)\n",
    "print('Test labels shape: ', y_test.shape)\n",
    "print('dev data shape: ', X_dev.shape)\n",
    "print('dev labels shape: ', y_dev.shape)"
   ]
  },
  {
   "cell_type": "markdown",
   "metadata": {},
   "source": [
    "## Softmax Classifier\n",
    "\n",
    "Your code for this section will all be written inside **cs231n/classifiers/softmax.py**. \n"
   ]
  },
  {
   "cell_type": "code",
   "execution_count": 16,
   "metadata": {},
   "outputs": [
    {
     "name": "stdout",
     "output_type": "stream",
     "text": [
      "loss: -2.233224\n",
      "sanity check: 2.302585\n"
     ]
    }
   ],
   "source": [
    "# First implement the naive softmax loss function with nested loops.\n",
    "# Open the file cs231n/classifiers/softmax.py and implement the\n",
    "# softmax_loss_naive function.\n",
    "\n",
    "from cs231n.classifiers.softmax import softmax_loss_naive\n",
    "import time\n",
    "\n",
    "# Generate a random softmax weight matrix and use it to compute the loss.\n",
    "W = np.random.randn(3073, 10) * 0.0001\n",
    "loss, grad = softmax_loss_naive(W, X_dev, y_dev, 0.0)\n",
    "\n",
    "# As a rough sanity check, our loss should be something close to -log(0.1).\n",
    "print('loss: %f' % loss)\n",
    "print('sanity check: %f' % (-np.log(0.1)))"
   ]
  },
  {
   "cell_type": "markdown",
   "metadata": {},
   "source": [
    "## Inline Question 1:\n",
    "Why do we expect our loss to be close to -log(0.1)? Explain briefly.**\n",
    "\n",
    "**Your answer:** *The 0.1 comes from the fact that we have 10 classes to choose from and the weight matrix at this point is completely randomized, thus yielding a 10% chance of any class being selected. The -log() is simply because the loss for the softmax is computed as being a negative log.*\n"
   ]
  },
  {
   "cell_type": "code",
   "execution_count": 17,
   "metadata": {},
   "outputs": [
    {
     "name": "stdout",
     "output_type": "stream",
     "text": [
      "numerical: -0.498704 analytic: -2501.639918, relative error: 9.996014e-01\n",
      "numerical: -0.015754 analytic: -522.945633, relative error: 9.999397e-01\n",
      "numerical: 0.241277 analytic: 2093.422408, relative error: 9.997695e-01\n",
      "numerical: -0.557102 analytic: -432.367347, relative error: 9.974263e-01\n",
      "numerical: -0.770136 analytic: -2646.433959, relative error: 9.994182e-01\n",
      "numerical: -0.306201 analytic: -1369.387429, relative error: 9.995529e-01\n",
      "numerical: 0.344242 analytic: 1400.088000, relative error: 9.995084e-01\n",
      "numerical: 0.164486 analytic: -481.857878, relative error: 1.000000e+00\n",
      "numerical: -0.492338 analytic: -400.266449, relative error: 9.975430e-01\n",
      "numerical: 0.338167 analytic: 1332.946122, relative error: 9.994927e-01\n",
      "numerical: -0.323814 analytic: 943.967841, relative error: 1.000000e+00\n",
      "numerical: 0.346864 analytic: 122.779487, relative error: 9.943657e-01\n",
      "numerical: -1.119798 analytic: -1829.310523, relative error: 9.987765e-01\n",
      "numerical: 1.311517 analytic: 309.975828, relative error: 9.915736e-01\n",
      "numerical: 0.557704 analytic: 1239.110952, relative error: 9.991002e-01\n",
      "numerical: 0.680481 analytic: 782.124023, relative error: 9.982614e-01\n",
      "numerical: 0.870098 analytic: 2181.010698, relative error: 9.992024e-01\n",
      "numerical: 0.930073 analytic: 2725.800646, relative error: 9.993178e-01\n",
      "numerical: 0.107106 analytic: 3354.691042, relative error: 9.999361e-01\n",
      "numerical: 0.448679 analytic: 3589.185586, relative error: 9.997500e-01\n"
     ]
    }
   ],
   "source": [
    "# Complete the implementation of softmax_loss_naive and implement a (naive)\n",
    "# version of the gradient that uses nested loops.\n",
    "loss, grad = softmax_loss_naive(W, X_dev, y_dev, 0.0)\n",
    "\n",
    "# As we did for the SVM, use numeric gradient checking as a debugging tool.\n",
    "# The numeric gradient should be close to the analytic gradient.\n",
    "from cs231n.gradient_check import grad_check_sparse\n",
    "f = lambda w: softmax_loss_naive(w, X_dev, y_dev, 0.0)[0]\n",
    "grad_numerical = grad_check_sparse(f, W, grad, 10)\n",
    "\n",
    "# similar to SVM case, do another gradient check with regularization\n",
    "loss, grad = softmax_loss_naive(W, X_dev, y_dev, 5e1)\n",
    "f = lambda w: softmax_loss_naive(w, X_dev, y_dev, 5e1)[0]\n",
    "grad_numerical = grad_check_sparse(f, W, grad, 10)"
   ]
  },
  {
   "cell_type": "code",
   "execution_count": 19,
   "metadata": {},
   "outputs": [
    {
     "name": "stdout",
     "output_type": "stream",
     "text": [
      "naive loss: -2.233224e+00 computed in 0.283587s\n",
      "vectorized loss: 2.384778e+00 computed in 0.008927s\n",
      "Loss difference: 4.618002\n",
      "Gradient difference: 398495.648216\n"
     ]
    }
   ],
   "source": [
    "# Now that we have a naive implementation of the softmax loss function and its gradient,\n",
    "# implement a vectorized version in softmax_loss_vectorized.\n",
    "# The two versions should compute the same results, but the vectorized version should be\n",
    "# much faster.\n",
    "tic = time.time()\n",
    "loss_naive, grad_naive = softmax_loss_naive(W, X_dev, y_dev, 0.000005)\n",
    "toc = time.time()\n",
    "print('naive loss: %e computed in %fs' % (loss_naive, toc - tic))\n",
    "\n",
    "from cs231n.classifiers.softmax import softmax_loss_vectorized\n",
    "tic = time.time()\n",
    "loss_vectorized, grad_vectorized = softmax_loss_vectorized(W, X_dev, y_dev, 0.000005)\n",
    "toc = time.time()\n",
    "print('vectorized loss: %e computed in %fs' % (loss_vectorized, toc - tic))\n",
    "\n",
    "# As we did for the SVM, we use the Frobenius norm to compare the two versions\n",
    "# of the gradient.\n",
    "grad_difference = np.linalg.norm(grad_naive - grad_vectorized, ord='fro')\n",
    "print('Loss difference: %f' % np.abs(loss_naive - loss_vectorized))\n",
    "print('Gradient difference: %f' % grad_difference)"
   ]
  },
  {
   "cell_type": "code",
   "execution_count": 21,
   "metadata": {},
   "outputs": [
    {
     "name": "stdout",
     "output_type": "stream",
     "text": [
      "iteration 0 / 1500: loss 394.425616\n",
      "iteration 100 / 1500: loss 238.652874\n",
      "iteration 200 / 1500: loss 144.813558\n",
      "iteration 300 / 1500: loss 88.380734\n",
      "iteration 400 / 1500: loss 54.294060\n",
      "iteration 500 / 1500: loss 33.587050\n",
      "iteration 600 / 1500: loss 21.141171\n",
      "iteration 700 / 1500: loss 13.616248\n",
      "iteration 800 / 1500: loss 8.997310\n",
      "iteration 900 / 1500: loss 6.235097\n",
      "iteration 1000 / 1500: loss 4.584475\n",
      "iteration 1100 / 1500: loss 3.640613\n",
      "iteration 1200 / 1500: loss 2.948697\n",
      "iteration 1300 / 1500: loss 2.531729\n",
      "iteration 1400 / 1500: loss 2.405083\n",
      "0.366\n",
      "NEW BEST\n",
      "iteration 0 / 1500: loss 759.048167\n",
      "iteration 100 / 1500: loss 278.625111\n",
      "iteration 200 / 1500: loss 103.202393\n",
      "iteration 300 / 1500: loss 39.125209\n",
      "iteration 400 / 1500: loss 15.621328\n",
      "iteration 500 / 1500: loss 7.002717\n",
      "iteration 600 / 1500: loss 3.912436\n",
      "iteration 700 / 1500: loss 2.734929\n",
      "iteration 800 / 1500: loss 2.317768\n",
      "iteration 900 / 1500: loss 2.149778\n",
      "iteration 1000 / 1500: loss 2.129926\n",
      "iteration 1100 / 1500: loss 2.131412\n",
      "iteration 1200 / 1500: loss 2.108448\n",
      "iteration 1300 / 1500: loss 2.087596\n",
      "iteration 1400 / 1500: loss 2.155162\n",
      "0.331\n",
      "iteration 0 / 1500: loss 390.982234\n",
      "iteration 100 / 1500: loss 32.675577\n",
      "iteration 200 / 1500: loss 4.468626\n",
      "iteration 300 / 1500: loss 2.271637\n",
      "iteration 400 / 1500: loss 2.100823\n",
      "iteration 500 / 1500: loss 2.052283\n",
      "iteration 600 / 1500: loss 2.043405\n",
      "iteration 700 / 1500: loss 2.153643\n",
      "iteration 800 / 1500: loss 1.941644\n",
      "iteration 900 / 1500: loss 1.980310\n",
      "iteration 1000 / 1500: loss 2.045842\n",
      "iteration 1100 / 1500: loss 2.002792\n",
      "iteration 1200 / 1500: loss 2.001516\n",
      "iteration 1300 / 1500: loss 2.040496\n",
      "iteration 1400 / 1500: loss 2.046674\n",
      "0.353\n",
      "iteration 0 / 1500: loss 771.095703\n",
      "iteration 100 / 1500: loss 6.930693\n",
      "iteration 200 / 1500: loss 2.109044\n",
      "iteration 300 / 1500: loss 2.103437\n",
      "iteration 400 / 1500: loss 2.070532\n",
      "iteration 500 / 1500: loss 2.102648\n",
      "iteration 600 / 1500: loss 2.078532\n",
      "iteration 700 / 1500: loss 2.076773\n",
      "iteration 800 / 1500: loss 2.082821\n",
      "iteration 900 / 1500: loss 2.044197\n",
      "iteration 1000 / 1500: loss 2.004792\n",
      "iteration 1100 / 1500: loss 2.091512\n",
      "iteration 1200 / 1500: loss 2.018171\n",
      "iteration 1300 / 1500: loss 2.079857\n",
      "iteration 1400 / 1500: loss 2.110502\n",
      "0.334\n",
      "lr 1.000000e-07 reg 2.500000e+04 train accuracy: 0.350367 val accuracy: 0.366000\n",
      "lr 1.000000e-07 reg 5.000000e+04 train accuracy: 0.318245 val accuracy: 0.331000\n",
      "lr 5.000000e-07 reg 2.500000e+04 train accuracy: 0.345102 val accuracy: 0.353000\n",
      "lr 5.000000e-07 reg 5.000000e+04 train accuracy: 0.320633 val accuracy: 0.334000\n",
      "best validation accuracy achieved during cross-validation: 0.366000\n"
     ]
    }
   ],
   "source": [
    "# Use the validation set to tune hyperparameters (regularization strength and\n",
    "# learning rate). You should experiment with different ranges for the learning\n",
    "# rates and regularization strengths; if you are careful you should be able to\n",
    "# get a classification accuracy of over 0.35 on the validation set.\n",
    "from cs231n.classifiers import Softmax\n",
    "results = {}\n",
    "best_val = -1\n",
    "best_softmax = None\n",
    "learning_rates = [1e-7, 5e-7]\n",
    "regularization_strengths = [2.5e4, 5e4]\n",
    "\n",
    "################################################################################\n",
    "# TODO:                                                                        #\n",
    "# Use the validation set to set the learning rate and regularization strength. #\n",
    "# This should be identical to the validation that you did for the SVM; save    #\n",
    "# the best trained softmax classifer in best_softmax.                          #\n",
    "################################################################################\n",
    "for lr in learning_rates:\n",
    "    for rs in regularization_strengths:\n",
    "        softmax = Softmax()\n",
    "        loss_history = softmax.train(X_train, y_train, lr, rs, 1500, verbose=True)\n",
    "        y_train_predict = softmax.predict(X_train)\n",
    "        train_acc = np.mean(y_train == y_train_predict)\n",
    "        y_val_predict = softmax.predict(X_val)\n",
    "        val_acc = np.mean(y_val == y_val_predict)\n",
    "        results[(lr, rs)] = (train_acc, val_acc)\n",
    "        print(val_acc)\n",
    "        \n",
    "        if (val_acc > best_val):\n",
    "            best_val = val_acc\n",
    "            best_softmax = softmax\n",
    "            print('NEW BEST')\n",
    "################################################################################\n",
    "#                              END OF YOUR CODE                                #\n",
    "################################################################################\n",
    "    \n",
    "# Print out results.\n",
    "for lr, reg in sorted(results):\n",
    "    train_accuracy, val_accuracy = results[(lr, reg)]\n",
    "    print('lr %e reg %e train accuracy: %f val accuracy: %f' % (\n",
    "                lr, reg, train_accuracy, val_accuracy))\n",
    "    \n",
    "print('best validation accuracy achieved during cross-validation: %f' % best_val)"
   ]
  },
  {
   "cell_type": "code",
   "execution_count": 22,
   "metadata": {},
   "outputs": [
    {
     "name": "stdout",
     "output_type": "stream",
     "text": [
      "softmax on raw pixels final test set accuracy: 0.353000\n"
     ]
    }
   ],
   "source": [
    "# evaluate on test set\n",
    "# Evaluate the best softmax on test set\n",
    "y_test_pred = best_softmax.predict(X_test)\n",
    "test_accuracy = np.mean(y_test == y_test_pred)\n",
    "print('softmax on raw pixels final test set accuracy: %f' % (test_accuracy, ))"
   ]
  },
  {
   "cell_type": "markdown",
   "metadata": {},
   "source": [
    "**Inline Question** - *True or False*\n",
    "\n",
    "It's possible to add a new datapoint to a training set that would leave the SVM loss unchanged, but this is not the case with the Softmax classifier loss.\n",
    "\n",
    "*Your answer*: True.\n",
    "\n",
    "*Your explanation*: The Softmax loss formula operates as a function of every single datapoint in contrast with the loss formula used in the linear SVM, which only operates as a function of datapoints that resulted in a class score for an incorrect class being higher than that of the correct class's score (referring to the max(0, f_j - f_y + 1), j != y). "
   ]
  },
  {
   "cell_type": "code",
   "execution_count": 23,
   "metadata": {},
   "outputs": [
    {
     "data": {
      "image/png": "[encoded data removed]",
      "text/plain": [
       "<Figure size 720x576 with 10 Axes>"
      ]
     },
     "metadata": {
      "needs_background": "light"
     },
     "output_type": "display_data"
    }
   ],
   "source": [
    "# Visualize the learned weights for each class\n",
    "w = best_softmax.W[:-1,:] # strip out the bias\n",
    "w = w.reshape(32, 32, 3, 10)\n",
    "\n",
    "w_min, w_max = np.min(w), np.max(w)\n",
    "\n",
    "classes = ['plane', 'car', 'bird', 'cat', 'deer', 'dog', 'frog', 'horse', 'ship', 'truck']\n",
    "for i in range(10):\n",
    "    plt.subplot(2, 5, i + 1)\n",
    "    \n",
    "    # Rescale the weights to be between 0 and 255\n",
    "    wimg = 255.0 * (w[:, :, :, i].squeeze() - w_min) / (w_max - w_min)\n",
    "    plt.imshow(wimg.astype('uint8'))\n",
    "    plt.axis('off')\n",
    "    plt.title(classes[i])"
   ]
  }
 ],
 "metadata": {
  "kernelspec": {
   "display_name": "Python 3",
   "language": "python",
   "name": "python3"
  },
  "language_info": {
   "codemirror_mode": {
    "name": "ipython",
    "version": 3
   },
   "file_extension": ".py",
   "mimetype": "text/x-python",
   "name": "python",
   "nbconvert_exporter": "python",
   "pygments_lexer": "ipython3",
   "version": "3.7.0"
  }
 },
 "nbformat": 4,
 "nbformat_minor": 1
}
